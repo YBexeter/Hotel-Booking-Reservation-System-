{
 "cells": [
  {
   "cell_type": "markdown",
   "metadata": {},
   "source": [
    "# Coding for the database application."
   ]
  },
  {
   "cell_type": "code",
   "execution_count": null,
   "metadata": {},
   "outputs": [],
   "source": [
    "# Improt sqlite3 to use the sqlite.\n",
    "import sqlite3\n"
   ]
  },
  {
   "cell_type": "code",
   "execution_count": null,
   "metadata": {},
   "outputs": [],
   "source": [
    "import pandas as pd\n"
   ]
  },
  {
   "cell_type": "code",
   "execution_count": null,
   "metadata": {},
   "outputs": [],
   "source": [
    "# Create a database for hotel reservation system.\n",
    "# First, we select address.\n",
    "conn=sqlite3.connect('C:\\\\Users\\\\yb270\\\\OneDrive - University of Exeter\\\\SQL\\\\HotelBookingtest1.db')"
   ]
  },
  {
   "cell_type": "code",
   "execution_count": null,
   "metadata": {},
   "outputs": [],
   "source": [
    "print(type(conn))"
   ]
  },
  {
   "cell_type": "code",
   "execution_count": null,
   "metadata": {},
   "outputs": [],
   "source": [
    "#cursor oject is created using cursor() method of the Connection object.\n",
    "CurOject=conn.cursor()"
   ]
  },
  {
   "cell_type": "code",
   "execution_count": null,
   "metadata": {},
   "outputs": [],
   "source": [
    "#Drop tables if exists.\n",
    "CurOject.execute(\"DROP TABLE IF EXISTS Hotel_Chain;\")\n",
    "CurOject.execute(\"DROP TABLE IF EXISTS Hotel;\")\n",
    "CurOject.execute(\"DROP TABLE IF EXISTS Customers;\")\n",
    "CurOject.execute(\"DROP TABLE IF EXISTS Rooms;\")\n",
    "CurOject.execute(\"DROP TABLE IF EXISTS Booking;\")"
   ]
  },
  {
   "cell_type": "code",
   "execution_count": null,
   "metadata": {},
   "outputs": [],
   "source": [
    "#Create all the required tables for our database.\n",
    "qry='''\n",
    "CREATE TABLE Hotel_Chain(\n",
    "        HChainID           NUMERIC (10)    PRIMARY KEY   UNIQUE   NOT NULL,\n",
    "        HotelChianName     VARCHAR (100)                 UNIQUE   NOT NULL,\n",
    "        Address            STRING  (100)                 UNIQUE   NOT NULL,\n",
    "        HotelchainPhone    NUMERIC (10)                  UNIQUE   NOT NULL,\n",
    "        Email              TEXT    (40)                  UNIQUE   NOT NULL\n",
    ");\n",
    "\n",
    "CREATE TABLE Hotel(\n",
    "        HotelID            VARCHAR (10)   PRIMARY KEY            NOT NULL,\n",
    "        HotelName          TEXT    (40)                 UNIQUE   NOT NULL,\n",
    "        Address            STRING  (100)                UNIQUE   NOT NULL,\n",
    "        Telephone          NUMERIC (10)                 UNIQUE   NOT NULL,\n",
    "        HChainID           NUMERIC        REFERENCES    Hotel_Chain (HChainID) ON DELETE NO ACTION ON UPDATE CASCADE\n",
    "                                                                 NOT NULL\n",
    ");\n",
    "\n",
    "CREATE TABLE Customers(\n",
    "        GuestID            VARCHAR (10)   PRIMARY KEY            NOT NULL,\n",
    "        First_Name         TEXT    (50)                         NOT NULL,\n",
    "        Last_Name          TEXT    (50)                        NOT NULL,\n",
    "        Contact_Number     NUMERIC (10)               UNIQUE   NOT NULL,\n",
    "        Email              TEXT    (100)               UNIQUE   NOT NULL,\n",
    "        Id_Proof           TEXT    (50)                        NOT NULL,\n",
    "        Address            TEXT    (100)               UNIQUE   NOT NULL,\n",
    "        HotelID            VARCHAR   REFERENCES    Hotel (HotelID ) ON DELETE RESTRICT ON UPDATE CASCADE\n",
    "                                                            NOT NULL\n",
    ");\n",
    "\n",
    "CREATE TABLE Rooms(\n",
    "        Room_Number        VARCHAR (10)   PRIMARY KEY            NOT NULL,\n",
    "        Room_type          VARCHAR (10)                        NOT NULL,\n",
    "        HotelID            VARCHAR   REFERENCES    Hotel (HotelID ) ON DELETE RESTRICT ON UPDATE CASCADE\n",
    "                                                            NOT NULL\n",
    ");\n",
    "\n",
    "CREATE TABLE Booking(\n",
    "        BookingID          VARCHAR  (10)   PRIMARY KEY            NOT NULL,\n",
    "        Price              VARCHAR  (25)                         NOT NULL,\n",
    "        Checkin_date       DATETIME                         NOT NULL,\n",
    "        Checkout_date      DATETIME                         NOT NULL,\n",
    "        GuestID            VARCHAR   REFERENCES    Customers (GuestID) ON DELETE RESTRICT ON UPDATE CASCADE,\n",
    "        Room_Number        VARCHAR   REFERENCES    Rooms (Room_Number) ON DELETE RESTRICT ON UPDATE CASCADE\n",
    "                                                            NOT NULL\n",
    ");\n",
    "        \n",
    "'''\n",
    "try:\n",
    "        CurOject.executescript(qry)\n",
    "        print ('Tables created successfully')\n",
    "except:\n",
    "        print ('Error in creating tables')\n",
    "       "
   ]
  },
  {
   "cell_type": "code",
   "execution_count": null,
   "metadata": {},
   "outputs": [],
   "source": [
    "#Let's look at the table we made.\n",
    "def tables(conn):\n",
    "    cur = conn.execute(\"SELECT name FROM sqlite_master WHERE type='table';\")\n",
    "    tables = [\n",
    "        v[0] for v in cur.fetchall()\n",
    "        if v[0] != \"sqlite_sequence\"\n",
    "    ]\n",
    "    cur.close()\n",
    "    return tables\n",
    "\n",
    "tables = tables(conn)\n",
    "print(tables)"
   ]
  },
  {
   "cell_type": "code",
   "execution_count": null,
   "metadata": {},
   "outputs": [],
   "source": [
    "# Inserting records in Hotel Chain about the details of the 2 main hotel chains.\n",
    "\n",
    "qry=\"insert into Hotel_Chain (HChainID, HotelChianName, Address, HotelchainPhone, Email) values (?,?,?,?,?);\"\n",
    "HotelChainList=[(1,'Yours hotel Corporation','9 Elton Road , London, LN4 4RY','1000000001','yhcd@gmail.com' ),\n",
    "           (2, 'Myplace Hotel and Resorts Corporation','10 Reed street , Leeds, LD3 3RS','111111111','mhrcd@gmail.com')]\n",
    "\n",
    "try:\n",
    "    CurOject.executemany(qry, HotelChainList)\n",
    "    conn.commit()\n",
    "    print ('Data inserted successfully...committed')\n",
    "\n",
    "except:\n",
    "    print ('Error.. Rollback')\n",
    "    conn.rollback()"
   ]
  },
  {
   "cell_type": "code",
   "execution_count": null,
   "metadata": {},
   "outputs": [],
   "source": [
    "#Lets see the HotalChain Data\n",
    "HotelChaindf = pd.read_sql_query(\"select * from Hotel_Chain\" ,conn)\n",
    "HotelChaindf= HotelChaindf.set_index('HChainID')\n",
    "HotelChaindf"
   ]
  },
  {
   "cell_type": "code",
   "execution_count": null,
   "metadata": {},
   "outputs": [],
   "source": [
    "# Inserting records related to the details of the Hotels\n",
    "\n",
    "qry=\"insert into Hotel (HotelID,HotelName,Address,Telephone,HChainID) values (?,?,?,?,?);\"\n",
    "HotelList=[(1,'Lands Inn','9b Gandy street , Exeter, EX4 3RY','2121212121','1' ),\n",
    "           (2, 'Exeter Rosewood','10a my street , Exeter, EX3 5RY','3131313131','1'),\n",
    "            (3,'Exeter Waxplace','Stocker Rd, Exeter EX1 3PY','4141414141','1' ),\n",
    "           (4, 'Hotel Bliss.','40, Fore street , Exeter, EX1 3XT','5151515511','2'),\n",
    "           (5, 'The Venetian Inn',' Catherine Street , Exeter, EX8 2YD','6161616161','2'),\n",
    "            (6,'Waldorf Astoria','40, High Street, Exeter EX4 3BY','717171717171','2' ),\n",
    "           (7, '4 Seasons Exeter','kings wharf, Cellar 2 , Exeter, EX2 3TS','818181818181','2')]\n",
    "\n",
    "\n",
    "try:\n",
    "    CurOject.executemany(qry, HotelList)\n",
    "    conn.commit()\n",
    "    print ('Data inserted successfully...committed')\n",
    "\n",
    "except:\n",
    "    print ('Error.. Rollback')\n",
    "    conn.rollback()"
   ]
  },
  {
   "cell_type": "code",
   "execution_count": null,
   "metadata": {},
   "outputs": [],
   "source": [
    "# Let's see the hotel data.\n",
    "Hoteldf = pd.read_sql_query(\"select * from Hotel\" ,conn)\n",
    "Hoteldf= Hoteldf.set_index('HotelID')\n",
    "Hoteldf"
   ]
  },
  {
   "cell_type": "code",
   "execution_count": null,
   "metadata": {},
   "outputs": [],
   "source": [
    "# Inserting records related of the Customers.\n",
    "\n",
    "qry=\"insert into Customers (GuestID, First_Name, Last_Name, Contact_Number, Email, Id_Proof, Address,HotelID) values (?,?,?,?,?,?,?,?);\"\n",
    "CustomerList=[('Cust1','RC',\"BB\",'23232323','RB@gmail.com','Passport','5a, villa, Australia','1' ),\n",
    "           ('Cust2', 'Ravi',\"Bhadauria\",'242424242','RAvi@gmail.com','Passport','tf5, Venex, India','2'),\n",
    "           ('Cust3','Peter',\"Danial\",'252525252','peter@gmail.com','Driving License ','23, dragon ally, Bristol','3'),\n",
    "           ('Cust4', 'Akash',\"Shingla\",'2626262626','akash@gmail.com','Passport','65, jsgaagsk, Chandigarh ,India','4'),\n",
    "           ('Cust5', 'GF',\"BF\",'272727272','gf@gmail.com','Passport','76, Wrzesnia, Poland','5'),\n",
    "           ('Cust6','Loubna',\"berhoun\",'282828282828','Loubna@gmail.com','Driving License','99, algrer, Algeria','6'),\n",
    "           ('Cust7', 'Kau',\"Mehta\",'383838383','Kau@gmail.com','Passport','888, megan, India','7'),\n",
    "           ('Cust8','Danial',\"Woziski\",'31313131','Danial@gmail.com','Passport','77, wegan, Northern Ireland','3' ),\n",
    "           ('Cust9', 'Nikhil',\"Mahajan\",'3232323232','Nikhil@gmail.com','National Id','66, segan, Poland','6'),\n",
    "           ('Cust10','Lakshay',\"Berry\",'343434343','Lakshay@gmail.com','National Id','55, dean, Australia','7'),\n",
    "           ('Cust11', 'Nikhil',\"Danawade\",'356473654','Danawade@gmail.com','Passport','33, legan, Northern Ireland','2'),\n",
    "           ('Cust12', 'Shashank',\"Sisodia\",'127875344','Shashank@gmail.com','National Id','22, wondek, Northern Ireland','1'),\n",
    "           ('Cust13','Mariusz',\"Moziski\",'18957353','Mariusz@gmail.com','Driving License','44, gondek, England','1'),\n",
    "           ('Cust14', 'Piotr',\"Garwarik\",'983347844','Piotr@gmail.com','Passport','876, sondek, amiri','3'),\n",
    "           ('Cust15','Marcin',\"Marzwa\",'93654733','Marcin@gmail.com','Passport','366, donkek,India','4' ),\n",
    "           ('Cust16', 'Obuwanu',\"zuwanuskigieo\",'9363545859','Obuwanu@gmail.com','Passport','122, wondnd, lindia','5'),\n",
    "           ('Cust17','Martina',\"ksmac\",'98753234','Martina@gmail.com','National Id','2, kosi, wndia','6'),\n",
    "           ('Cust18', 'Asia',\"kosmaczewska\",'24356854','Asia@gmail.com','Driving License','1, wosi, India','7'),\n",
    "           ('Cust19', 'Wiktoria',\"Siwek\",'8765465','Wiktoria@gmail.com','Passport','6, dogi, Wome','1'),\n",
    "           ('Cust20','Gabi',\"Moziswki\",'876438298','Gabi@gmail.com','National Id','98, gogi, Dome','2'),\n",
    "           ('Cust21', 'Zuza',\"Pointek\",'76876545','Zuza@gmail.com','Passport','34, logi, Gome','3'),\n",
    "           ('Cust22','Kirti',\"Chauhan\",'656765456','Kirti@gmail.com','National Id','7, sogi, Rome','4' ),\n",
    "           ('Cust23', 'Rashmi',\"Chauhan\",'3456543','Rashmi@gmail.com','National Id','2, wogi, Franch','5'),\n",
    "           ('Cust24','Shrey',\"Garg\",'23456543','Shrey@gmail.com','Passport','4, mogi, CR','6'),\n",
    "           ('Cust25', 'shashank',\"Gupta\",'23454321','Gupta@gmail.com','Driving License','34, qpqpq, Germany','7'),\n",
    "           ('Cust26', 'Rajat',\"Gupta\",'9878987','Rajat@gmail.com','Passport','364, aahan, poland','3'),\n",
    "           ('Cust27','Mateusz',\"Siwek\",'678765','Mateusz@gmail.com','National Id','87, wahan, London','2'),\n",
    "           ('Cust28', 'Mateusz',\"Doiszk\",'4567654','Doiszk@gmail.com','Passport','65, aaspass, Australia','1')]\n",
    "\n",
    "#Commiting the data.\n",
    "try:\n",
    "    CurOject.executemany(qry, CustomerList)\n",
    "    conn.commit()\n",
    "    print ('Data inserted successfully...committed')\n",
    "\n",
    "except:\n",
    "    print ('Error.. Rollback')\n",
    "    conn.rollback()"
   ]
  },
  {
   "cell_type": "code",
   "execution_count": null,
   "metadata": {},
   "outputs": [],
   "source": [
    "# Let's see the Customer data\n",
    "Custdf = pd.read_sql_query(\"select * from Customers\" ,conn)\n",
    "Custdf= Custdf.set_index('GuestID')\n",
    "Custdf"
   ]
  },
  {
   "cell_type": "code",
   "execution_count": null,
   "metadata": {},
   "outputs": [],
   "source": [
    "qry=\"insert into Rooms (Room_Number,Room_type, HotelID ) values (?,?,?);\"\n",
    "RoomList=[(101,'Standard' ,1),\n",
    "           (102, 'En-suite',2),\n",
    "               (103,'Standard',3 ),\n",
    "           (104, 'En-suite',4),\n",
    "               (105,'Standard',5 ),\n",
    "           (106, 'En-suite',6),\n",
    "               (107,'Standard',7 ),\n",
    "           (108, 'En-suite',2),\n",
    "               (109,'Standard',3),\n",
    "           (110, 'En-suite',1),\n",
    "               (111,'Standard' ,3),\n",
    "           (112, 'En-suite',2),\n",
    "                (113,'Standard',4 ),\n",
    "           (114, 'En-suite',1),\n",
    "           (115, 'En-suite',5 ),\n",
    "               (116,'Standard',3),\n",
    "           (117, 'En-suite',2),\n",
    "               (118,'Standard',5  ),\n",
    "           (119, 'En-suite',1),\n",
    "               (120,'Standard' ,5 ),\n",
    "           (121, 'En-suite',6),\n",
    "               (122,'Standard',7  ),\n",
    "           (123, 'En-suite',2),\n",
    "            (124,'Standard',6 ),\n",
    "           (125, 'En-suite',1),\n",
    "               (126,'Standard',6 ),\n",
    "           (127, 'En-suite',1),\n",
    "               (128,'Standard' ,4),\n",
    "           (129, 'En-suite',2),\n",
    "               (130,'Standard' ,7 ),\n",
    "           (131, 'En-suite',7 ),\n",
    "               (132,'Standard',4 ),\n",
    "           (133, 'En-suite',1),\n",
    "               (134,'Standard',7 )]\n",
    "\n",
    "#Commit Data\n",
    "try:\n",
    "    CurOject.executemany(qry, RoomList)\n",
    "    conn.commit()\n",
    "    print ('Data inserted successfully...committed')\n",
    "\n",
    "except:\n",
    "    print ('Error.. Rollback')\n",
    "    conn.rollback()"
   ]
  },
  {
   "cell_type": "code",
   "execution_count": null,
   "metadata": {},
   "outputs": [],
   "source": [
    "Roomdf = pd.read_sql_query(\"select * from Rooms\" ,conn)\n",
    "Roomdf= Roomdf.set_index('Room_Number')\n",
    "Roomdf"
   ]
  },
  {
   "cell_type": "code",
   "execution_count": null,
   "metadata": {},
   "outputs": [],
   "source": [
    "qry=\"insert into Booking (BookingID,Price,Checkin_date,Checkout_date,GuestID, Room_Number) values (?,?,?,?,?,?);\"\n",
    "BookingList=[('B1','£40','05/14/2021', '05/16/2021','Cust9',101,),\n",
    "             ('B2','£70','06/14/2021', '06/16/2021','Cust10',102,),\n",
    "             ('B3','£70','06/07/2021', '06/09/2021','Cust1',103,),\n",
    "             ('B4','£90','07/06/2021', '07/09/2021','Cust2',104,),\n",
    "             ('B5','£80','06/05/2021', '06/15/2021','Cust4',105,),\n",
    "             ('B6','£30','05/04/2021', '05/05/2021','Cust5',106,),\n",
    "             ('B7','£60','04/03/2021', '04/04/2021','Cust10',107,),\n",
    "             ('B8','£70','04/02/2021', '04/04/2021','Cust27',108,)]\n",
    "\n",
    "try:\n",
    "    CurOject.executemany(qry, BookingList)\n",
    "    conn.commit()\n",
    "    print ('Data inserted successfully...committed')\n",
    "\n",
    "except:\n",
    "    print ('Error.. Rollback')\n",
    "    conn.rollback()"
   ]
  },
  {
   "cell_type": "code",
   "execution_count": null,
   "metadata": {},
   "outputs": [],
   "source": [
    "Bookingdf = pd.read_sql_query(\"select * from Booking\" ,conn)\n",
    "Bookingdf= Bookingdf.set_index('BookingID')\n",
    "Bookingdf"
   ]
  },
  {
   "cell_type": "markdown",
   "metadata": {},
   "source": [
    "# Coding in Redis\n",
    "Let's add data of new customers waiting for availability of rooms in their choice of Hotel."
   ]
  },
  {
   "cell_type": "code",
   "execution_count": null,
   "metadata": {},
   "outputs": [],
   "source": [
    "# Import Redis package\n",
    "import redis\n",
    "\n",
    "r = redis.Redis(host='localhost', port=6379, db=4)\n",
    "\n",
    "# Check database connection -will return true if successful\n",
    "print(r.ping())"
   ]
  },
  {
   "cell_type": "code",
   "execution_count": null,
   "metadata": {},
   "outputs": [],
   "source": [
    "import random\n",
    "# Redis hash of field-value pairs is used. Eash has has a key that with an integer (we are importing random())\n",
    "random.seed(203)\n",
    "\n",
    "#Here we will provide the see to the random.\n",
    "\n",
    "available_rooms = {f\"available_Roomms:{random.getrandbits(32)}\": i for i in (\n",
    "    {\n",
    "        \"Room Type\": \"Standard/En-Suite\",\n",
    "        \"Hotel\": \"Lands Inn\",\n",
    "        \"Available\": 50,\n",
    "        \"Price\": 35,\n",
    "        \n",
    "    },\n",
    "    {\n",
    "        \"Room Type\": \"Standard/En-Suite\",\n",
    "        \"Hotel\": \"Exeter Rosewood\",\n",
    "        \"Available\": 50,\n",
    "        \"Price\": 25,\n",
    "    },\n",
    "    {\n",
    "        \"Room Type\": \"Standard/En-Suite\",\n",
    "        \"Hotel\": \"The Venetian Inn\",\n",
    "        \"Available\": 50,\n",
    "        \"Price\": 75,\n",
    "    },\n",
    "    {\n",
    "        \"Room Type\": \"Standard/En-Suite\",\n",
    "        \"Hotel\": \"Waldorf Astoria\",\n",
    "        \"Available\": 50,\n",
    "        \"Price\": 45,\n",
    "    },\n",
    "    {\n",
    "        \"Room Type\": \"Standard/En-Suite\",\n",
    "        \"Hotel\": \"4 Seasons Exeter\",\n",
    "         \"Available\": 50,\n",
    "        \"Price\": 65,\n",
    "    })\n",
    "}"
   ]
  },
  {
   "cell_type": "code",
   "execution_count": null,
   "metadata": {},
   "outputs": [],
   "source": [
    "ar=pd.DataFrame(available_rooms)\n",
    "ar"
   ]
  },
  {
   "cell_type": "code",
   "execution_count": null,
   "metadata": {},
   "outputs": [],
   "source": [
    "import redis\n",
    "\n",
    "r10 = redis.Redis(db=1)"
   ]
  },
  {
   "cell_type": "code",
   "execution_count": null,
   "metadata": {},
   "outputs": [],
   "source": [
    "with r10.pipeline() as pipe:\n",
    "    for Room_id, available_Roomms in available_rooms.items():\n",
    "            pipe.hmset(Room_id, available_Roomms)   \n",
    "    pipe.execute()"
   ]
  },
  {
   "cell_type": "code",
   "execution_count": null,
   "metadata": {},
   "outputs": [],
   "source": [
    "r10.bgsave()"
   ]
  },
  {
   "cell_type": "code",
   "execution_count": null,
   "metadata": {},
   "outputs": [],
   "source": [
    "import logging\n",
    "\n",
    "logging.basicConfig()\n",
    "\n",
    "class OutOfStockError(Exception):\n",
    "    \"\"\"Raised when rooms are not available\"\"\"\n",
    "\n",
    "def buyitem(r: redis.Redis, itemid: int) -> None:\n",
    "    with r.pipeline() as pipe:\n",
    "        error_count = 0\n",
    "        while True:\n",
    "            try:\n",
    "                # Get available inventory, watching for changes\n",
    "                # related to this itemid before the transaction\n",
    "                pipe.watch(itemid)\n",
    "                nleft: bytes = r.hget(itemid, \"Available\")\n",
    "                if nleft > b\"0\":\n",
    "                    pipe.multi()\n",
    "                    pipe.hincrby(itemid, \"Available\", -1)\n",
    "                    pipe.hincrby(itemid, \"Booked\", 1)\n",
    "                    pipe.execute()\n",
    "                    break\n",
    "                else:\n",
    "                    # Stop watching the itemid and raise to break out\n",
    "                    pipe.unwatch()\n",
    "                    raise OutOfStockError(\n",
    "                        f\"Sorry, {itemid} is out of stock!\"\n",
    "                    )\n",
    "            except redis.WatchError:\n",
    "                # Log total num. of errors by this user to buy this item,\n",
    "                # then try the same process again of WATCH/HGET/MULTI/EXEC\n",
    "                error_count += 1\n",
    "                logging.warning(\n",
    "                    \"WatchError #%d: %s; retrying\",\n",
    "                    error_count, itemid\n",
    "                )\n",
    "    return None"
   ]
  },
  {
   "cell_type": "markdown",
   "metadata": {},
   "source": [
    "# Hotel Booking System Application."
   ]
  },
  {
   "cell_type": "markdown",
   "metadata": {},
   "source": [
    "\n",
    "\n",
    "## Do you want to insert any new Customer details. "
   ]
  },
  {
   "cell_type": "code",
   "execution_count": null,
   "metadata": {},
   "outputs": [],
   "source": [
    "GuestID=input('Enter GuestId:') \n",
    "First_Name=input('Enter First Name:')\n",
    "Last_Name=input('Enter Last Name:')\n",
    "Contact_Number=input('Enter Contact Number:')\n",
    "Email= input('Enter  Email:') \n",
    "Id_Proof=input('Enter Id Proof:') \n",
    "Address=input('Enter Address:') \n",
    "HotelID=input('Enter in which hotel he will stay:') \n",
    "\n",
    "qry=\"insert into Customers (GuestID, First_Name, Last_Name, Contact_Number, Email, Id_Proof, Address,HotelID) values (?,?,?,?,?,?,?,?);\"\n",
    "try:\n",
    "        CurOject.execute(qry, (GuestID,First_Name,Last_Name,Contact_Number,Email,Id_Proof,Address,HotelID))\n",
    "        print ('Customer added')\n",
    "        conn.commit()\n",
    "except:\n",
    "        print ('Error.. rollback')\n",
    "        conn.rollback()\n",
    "\n"
   ]
  },
  {
   "cell_type": "code",
   "execution_count": null,
   "metadata": {},
   "outputs": [],
   "source": []
  },
  {
   "cell_type": "markdown",
   "metadata": {},
   "source": [
    "\n",
    "#  Booking at the hotel."
   ]
  },
  {
   "cell_type": "code",
   "execution_count": null,
   "metadata": {},
   "outputs": [],
   "source": [
    "# Do you wanna add Booking confirmation detail for a existing customer.\n",
    "\n",
    "BookingID=input('Add Booking Number:')\n",
    "Price=input('Enter Price of the selected Room:')\n",
    "Checkin_date=input('Enter Check in Date:(mm/dd/yyyy)')\n",
    "Checkout_date=input('Enter Check out Date:(mm/dd/yyyy):')\n",
    "GuestID=input('Enter GuestId:')\n",
    "Room_Number=input('Enter Room Number Customer will stay:')\n",
    "\n",
    "qry=\"insert into Booking (BookingID,Price,Checkin_date,Checkout_date,GuestID, Room_Number) values (?,?,?,?,?,?);\"\n",
    "try:\n",
    "        CurOject.execute(qry, (BookingID,Price,Checkin_date,Checkout_date,GuestID, Room_Number))\n",
    "        print ('Room Booked')\n",
    "        conn.commit()\n",
    "except:\n",
    "        print ('Error in Booking .. rollback')\n",
    "        conn.rollback()"
   ]
  },
  {
   "cell_type": "code",
   "execution_count": null,
   "metadata": {},
   "outputs": [],
   "source": []
  },
  {
   "cell_type": "markdown",
   "metadata": {},
   "source": [
    "\n",
    "# Read details of customer, booking, hotel name and duration of stay."
   ]
  },
  {
   "cell_type": "code",
   "execution_count": null,
   "metadata": {},
   "outputs": [],
   "source": [
    "\n",
    "# Query and display records from multiple tables based on user input\n",
    "\n",
    "inputBookingID=input ('Input Booking ID:')\n",
    "qry=\"select * from Booking where BookingID=?\";\n",
    "CurOject.execute(qry, (inputBookingID,))\n",
    "row=CurOject.fetchone()\n",
    "\n",
    "#Let's extract the data from the input.\n",
    "print (\"Price of the Room is\", row[1])\n",
    "print (\"Customer ID is\",row[4], \"Room alloted is\",row[5])\n",
    "print(\"The time of stay is from\",row[2],\"to\",row[3] )\n",
    "\n",
    "#Extract detials of customer using primary-foreign key relationship.\n",
    "qry1=\"select * from Customers where GuestID=?\";\n",
    "CurOject.execute(qry1, (row[4],))\n",
    "rowcust=CurOject.fetchone()\n",
    "print(\"Name of the Guest is\", rowcust[1],rowcust[2])\n",
    "print(\"The contact details are as follows Phone\",rowcust[3],\"and Address is\",rowcust[6],\".\")\n",
    "\n",
    "#Extract data of the Hotel in which the customer stayed.\n",
    "qry2=\"select * from Hotel where HotelID=?\";\n",
    "CurOject.execute(qry2, (rowcust[7],))\n",
    "row=CurOject.fetchone()\n",
    "\n",
    "print(\"Guest is staying at\", row[1],\". The Contact info of the Hotel are as follows- Phone-\",row[3],\"and Address is\",row[2],\".\")\n",
    "\n",
    "\n"
   ]
  },
  {
   "cell_type": "code",
   "execution_count": null,
   "metadata": {
    "scrolled": true
   },
   "outputs": [],
   "source": [
    "#Let's check the data of customers who are staying in all hotels.\n",
    "\n",
    "CurrentCust=pd.merge(Bookingdf,Custdf, how=\"left\", on=\"GuestID\") \n",
    "CurrentCust.index = CurrentCust.index + 1\n",
    "CurrentCust"
   ]
  },
  {
   "cell_type": "markdown",
   "metadata": {},
   "source": [
    "# Update Booking if you relate it with wrong Guest."
   ]
  },
  {
   "cell_type": "code",
   "execution_count": null,
   "metadata": {},
   "outputs": [],
   "source": [
    "# Update table based on user input\n",
    "\n",
    "InBook=input('Enter BookingID to be updated:')\n",
    "InputNew=input('Enter new GuestID:')\n",
    "qry='update Booking set GuestID=? where BookingID=?'\n",
    "\n",
    "try:\n",
    "        CurOject.execute(qry, (InputNew,InBook))\n",
    "        print ('Booking details updated')\n",
    "        conn.commit()\n",
    "except:\n",
    "        print ('Error, Please try again.. rollback')\n",
    "        conn.rollback()\n"
   ]
  },
  {
   "cell_type": "code",
   "execution_count": null,
   "metadata": {},
   "outputs": [],
   "source": []
  },
  {
   "cell_type": "markdown",
   "metadata": {},
   "source": [
    "# Delete the cancelled booking."
   ]
  },
  {
   "cell_type": "code",
   "execution_count": null,
   "metadata": {},
   "outputs": [],
   "source": [
    "# Delete record based on user input\n",
    "\n",
    "DelBooking=input('Enter Booking ID to delete:')\n",
    "qry='delete from Booking where BookingID=?'\n",
    "try:\n",
    "        CurOject.execute(qry, (DelBooking,))\n",
    "        print ('Selected booking is deleted')\n",
    "        conn.commit()\n",
    "except:\n",
    "        print ('Error in deleting Booking',DelBooking)\n",
    "        conn.rollback()\n"
   ]
  },
  {
   "cell_type": "markdown",
   "metadata": {},
   "source": [
    "# Data of Customers in the waiting list."
   ]
  },
  {
   "cell_type": "code",
   "execution_count": null,
   "metadata": {},
   "outputs": [],
   "source": [
    "#Insert Data\n",
    "r.set (\"Hotel:Cust111\", \"Lands Inn \")\n",
    "r.set (\"Hotel:Cust112\", \"Exeter Rosewod\")\n",
    "r.set (\"Hotel:Cust113\", \"Hotel Bliss\")\n",
    "r.set (\"Hotel:Cust114\", \"The Venetian Inn\")\n",
    "r.set (\"Hotel:Cust115\", \"Waldorf Astoria\")\n",
    "r.set (\"Hotel:Cust116\", \"Exeter Rosewood\")\n",
    "r.set (\"Hotel:Cust117\", \"Lands Inn \")\n",
    "r.set (\"Hotel:Cust118\", \"The Venetian Inn\")\n",
    "r.set (\"Hotel:Cust119\", \"Waldorf Astoria\")\n",
    "\n",
    "\n"
   ]
  },
  {
   "cell_type": "markdown",
   "metadata": {},
   "source": [
    "# Let's look at the customers in the waiting list."
   ]
  },
  {
   "cell_type": "code",
   "execution_count": null,
   "metadata": {},
   "outputs": [],
   "source": [
    "ky=r.keys(\"Hotel:Cust1*\")\n",
    "for x in ky:\n",
    "    print(\"Key: \", x.decode(\"utf-8\"))\n",
    "    key=x.decode(\"utf-8\")\n",
    "    print(\"Value: \", r.get(key).decode(\"utf-8\"))"
   ]
  },
  {
   "cell_type": "markdown",
   "metadata": {},
   "source": [
    "# If we want to delete some data from waiting list."
   ]
  },
  {
   "cell_type": "code",
   "execution_count": null,
   "metadata": {},
   "outputs": [],
   "source": [
    "r.delete(\"Hotel:Cust111\")"
   ]
  },
  {
   "cell_type": "markdown",
   "metadata": {},
   "source": [
    "# Update the data in the waiting list"
   ]
  },
  {
   "cell_type": "code",
   "execution_count": null,
   "metadata": {},
   "outputs": [],
   "source": [
    "r.rename(\"Hotel:Cust113\",\"Hotel:Cust120\")"
   ]
  },
  {
   "cell_type": "markdown",
   "metadata": {},
   "source": [
    "# Lets add the cusotmer who are interested in venetian Inn."
   ]
  },
  {
   "cell_type": "code",
   "execution_count": null,
   "metadata": {},
   "outputs": [],
   "source": [
    "#Customer looked into The venetian Inn. \n",
    "r.rpush (\"Hotel:venetian:BookingSection:Sept20\", \"Cust-120\")\n",
    "r.rpush (\"Hotel:venetian:BookingSection:Sept20\", \"Cust-118\")\n",
    "r.rpush (\"Hotel:venetian:BookingSection:Sept20\", \"Cust-125\")\n",
    "r.rpush (\"Hotel:venetian:BookingSection:Sept20\", \"Cust-121\")\n",
    "\n",
    "# Let's see the length of the list stored at key.\n",
    "print (\"Number of Customers in waiting of the Venetian Inn website: \", r.llen (\"Hotel:venetian:BookingSection:Sept20\"))\n",
    "\n",
    "print (\"First Customer in Booking waiting list: \", r.lindex (\"Hotel:venetian:BookingSection:Sept20\", 0).decode(\"utf-8\"))\n"
   ]
  },
  {
   "cell_type": "code",
   "execution_count": null,
   "metadata": {},
   "outputs": [],
   "source": [
    "#Let's add the data of the first customer and retrive it.\n",
    "record = {\n",
    "    \"Full Name\": \"Max Beery\",\n",
    "    \"Contact No\": \"9876556675\",\n",
    "    \"Email\":\"Max@gmail.com\",\n",
    "    \"Id_Proof\":\"Passport\",\n",
    "    \"Address\":\"33,Street, England\",\n",
    "    \"HotelID\":'5',\n",
    "    \"Checkin_date\":\"05/16/2021\",\n",
    "    \"Checkout_date\": \"05/19/2021\"\n",
    "}\n",
    "\n",
    "r.hmset(\"Cust-120\", record)\n",
    "r.hgetall(\"Cust-120\")"
   ]
  },
  {
   "cell_type": "code",
   "execution_count": null,
   "metadata": {},
   "outputs": [],
   "source": [
    "#Let's store the key in new object that will help us to pass the values to our RDBMS database.\n",
    "newcust=r.keys('Cust*')"
   ]
  },
  {
   "cell_type": "code",
   "execution_count": null,
   "metadata": {},
   "outputs": [],
   "source": [
    "#Extract all the data from the redis and save it in our customer table.\n",
    "GuestID=(\"Cust-120\")\n",
    "Full_Name=record['Full Name'].split()\n",
    "First_Name=Full_Name[0]\n",
    "Last_Name=Full_Name[1]\n",
    "Contact_Number=record['Contact No']\n",
    "Email=record['Email']\n",
    "Id_Proof=record['Id_Proof']\n",
    "Address=record['Address']\n",
    "HotelID=record['HotelID']"
   ]
  },
  {
   "cell_type": "markdown",
   "metadata": {},
   "source": [
    "## Adding the extracted data into the Customer Table"
   ]
  },
  {
   "cell_type": "code",
   "execution_count": null,
   "metadata": {},
   "outputs": [],
   "source": [
    "#Qyary to insert data to our customer table.\n",
    "qry=\"insert into Customers (GuestID, First_Name, Last_Name, Contact_Number, Email, Id_Proof, Address,HotelID) values (?,?,?,?,?,?,?,?);\"\n",
    "\n",
    "Newdetails=(GuestID, First_Name, Last_Name, Contact_Number, Email, Id_Proof, Address,HotelID)\n",
    "#Commiting the data.\n",
    "\n",
    "try:\n",
    "    CurOject.executemany(qry,(Newdetails,))\n",
    "    conn.commit()\n",
    "    print ('Data inserted successfully...committed')\n",
    "\n",
    "except:\n",
    "    print ('Error.. Rollback')\n",
    "    conn.rollback()"
   ]
  },
  {
   "cell_type": "markdown",
   "metadata": {},
   "source": [
    "## Giving offers to leverage customers to book the room in minimum span of time. "
   ]
  },
  {
   "cell_type": "code",
   "execution_count": null,
   "metadata": {},
   "outputs": [],
   "source": [
    "from datetime import datetime\n",
    "# retrieving current time using using datetime object\n",
    "datetime = datetime.now()\n",
    "\n",
    "r.set(\"Hotel:venetian:BookingSection:Cust-1145:ip_address\", \"144.243.872.773\")\n",
    "r.set(\"Hotel:venetian:BookingSection:Cust-1145:timestamp\", datetime.strftime(\"%H:%M:%S\"))\n",
    "r.set(\"Hotel:venetian:BookingSection:Cust-1145:Offer 50% off\", \"Room 110\")\n",
    "\n",
    "print(r.get(\"Hotel:venetian:BookingSection:Cust-1145:ip_address\"))\n",
    "print(r.get(\"Hotel:venetian:BookingSection:Cust-1145:timestamp\"))\n",
    "\n",
    "# Displaying ttl key to show that the customer has to book the room in the specified time for the offer.\n",
    "print(\"Hurry up! Soon you will lose the opportunity.\")\n",
    "\n",
    "r.ttl (\"Hotel:venetian:BookingSection:Cust-1145:Offer 50% off\")\n",
    "# Set expiry to 60 seconds\n",
    "r.expire(\"Hotel:venetian:BookingSection:Cust-1145:Offer 50% off\", 60)\n",
    "\n",
    "#Printing message and time left.\n",
    "print(\"Hurry up! Total time left is-\")\n",
    "print(r.ttl (\"Hotel:venetian:BookingSection:Cust-1145:Offer 50% off\"))\n"
   ]
  },
  {
   "cell_type": "code",
   "execution_count": null,
   "metadata": {},
   "outputs": [],
   "source": [
    "r.ttl (\"Hotel:venetian:BookingSection:Cust-1145:Offer 50% off\")"
   ]
  },
  {
   "cell_type": "markdown",
   "metadata": {},
   "source": [
    "## Adding booking through the online waiting list."
   ]
  },
  {
   "cell_type": "code",
   "execution_count": null,
   "metadata": {},
   "outputs": [],
   "source": [
    "# Adding Booking confirmation detail for a new booking received from online portal and saving to our Booking table.\n",
    "\n",
    "BookingID=input('Add Booking Number:')\n",
    "Price=input('Enter Price of the selected Room:')\n",
    "Checkin_date=record['Checkin_date']\n",
    "Checkout_date=record['Checkout_date']\n",
    "GuestID=input('Enter GuestId:')\n",
    "Room_Number=input('Enter Room Number Customer will stay:')\n",
    "\n",
    "qry=\"insert into Booking (BookingID,Price,Checkin_date,Checkout_date,GuestID, Room_Number) values (?,?,?,?,?,?);\"\n",
    "\n",
    "try:\n",
    "        CurOject.execute(qry, (BookingID,Price,Checkin_date,Checkout_date,GuestID, Room_Number))\n",
    "        print ('Room Booked')\n",
    "        conn.commit()\n",
    "except:\n",
    "        print ('Error in Booking .. rollback')\n",
    "        conn.rollback()"
   ]
  },
  {
   "cell_type": "markdown",
   "metadata": {},
   "source": [
    "\n",
    "# Check the availability of rooms. "
   ]
  },
  {
   "cell_type": "code",
   "execution_count": null,
   "metadata": {},
   "outputs": [],
   "source": [
    "# look for the keys;\n",
    "r10.keys(\"available_Roomms*\")\n"
   ]
  },
  {
   "cell_type": "code",
   "execution_count": null,
   "metadata": {},
   "outputs": [],
   "source": [
    "print(r10.hgetall(\"available_Roomms:3616826228\"))"
   ]
  },
  {
   "cell_type": "code",
   "execution_count": null,
   "metadata": {},
   "outputs": [],
   "source": [
    "buyitem(r10, \"available_Roomms:3616826228\")\n",
    "buyitem(r10, \"available_Roomms:3616826228\")\n",
    "buyitem(r10, \"available_Roomms:3616826228\")\n",
    "print(\"Available rooms are\",r10.hmget(\"available_Roomms:3616826228\", \"Available\"),\"and booked rooms are\",r10.hmget(\"available_Roomms:3616826228\", \"Booked\"))"
   ]
  },
  {
   "cell_type": "code",
   "execution_count": null,
   "metadata": {},
   "outputs": [],
   "source": [
    "r10.lastsave()"
   ]
  },
  {
   "cell_type": "code",
   "execution_count": null,
   "metadata": {},
   "outputs": [],
   "source": [
    "r10.bgsave()"
   ]
  },
  {
   "cell_type": "code",
   "execution_count": null,
   "metadata": {},
   "outputs": [],
   "source": []
  }
 ],
 "metadata": {
  "kernelspec": {
   "display_name": "Python 3",
   "language": "python",
   "name": "python3"
  },
  "language_info": {
   "codemirror_mode": {
    "name": "ipython",
    "version": 3
   },
   "file_extension": ".py",
   "mimetype": "text/x-python",
   "name": "python",
   "nbconvert_exporter": "python",
   "pygments_lexer": "ipython3",
   "version": "3.8.5"
  }
 },
 "nbformat": 4,
 "nbformat_minor": 4
}
